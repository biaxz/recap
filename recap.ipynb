{
  "cells": [
    {
      "cell_type": "markdown",
      "metadata": {
        "id": "view-in-github",
        "colab_type": "text"
      },
      "source": [
        "<a href=\"https://colab.research.google.com/github/biaxz/recap/blob/main/recap.ipynb\" target=\"_parent\"><img src=\"https://colab.research.google.com/assets/colab-badge.svg\" alt=\"Open In Colab\"/></a>"
      ]
    },
    {
      "cell_type": "markdown",
      "metadata": {
        "id": "oUQmXRsLPBgT"
      },
      "source": [
        "# Auto Movie Recap Editor\n",
        "\n",
        "This notebook creates auto-edited movie recaps with random effects including:\n",
        "- Slow motion (25%)\n",
        "- Freeze frames (25%)\n",
        "- Normal speed (50%)\n",
        "- Transitions\n",
        "- Multiple timestamp exclusions for opening/credit scenes\n",
        "- Sequential segments from start to end"
      ]
    },
    {
      "cell_type": "code",
      "source": [
        "from google.colab import drive\n",
        "drive.mount('/content/drive')"
      ],
      "metadata": {
        "colab": {
          "base_uri": "https://localhost:8080/"
        },
        "id": "c6D7tjSYPEpG",
        "outputId": "4a2bef77-ff5d-4df1-f012-2402e402cd1d"
      },
      "execution_count": null,
      "outputs": [
        {
          "output_type": "stream",
          "name": "stdout",
          "text": [
            "Mounted at /content/drive\n"
          ]
        }
      ]
    },
    {
      "cell_type": "code",
      "execution_count": null,
      "metadata": {
        "colab": {
          "base_uri": "https://localhost:8080/"
        },
        "id": "20aAra1TPBgZ",
        "outputId": "209de5e3-b42b-4e4d-9191-3068a32dd9a2"
      },
      "source": [
        "# Install required packages\n",
        "!pip install moviepy numpy"
      ],
      "outputs": [
        {
          "output_type": "stream",
          "name": "stdout",
          "text": [
            "Requirement already satisfied: moviepy in /usr/local/lib/python3.11/dist-packages (1.0.3)\n",
            "Requirement already satisfied: numpy in /usr/local/lib/python3.11/dist-packages (2.0.2)\n",
            "Requirement already satisfied: decorator<5.0,>=4.0.2 in /usr/local/lib/python3.11/dist-packages (from moviepy) (4.4.2)\n",
            "Requirement already satisfied: tqdm<5.0,>=4.11.2 in /usr/local/lib/python3.11/dist-packages (from moviepy) (4.67.1)\n",
            "Requirement already satisfied: requests<3.0,>=2.8.1 in /usr/local/lib/python3.11/dist-packages (from moviepy) (2.32.3)\n",
            "Requirement already satisfied: proglog<=1.0.0 in /usr/local/lib/python3.11/dist-packages (from moviepy) (0.1.11)\n",
            "Requirement already satisfied: imageio<3.0,>=2.5 in /usr/local/lib/python3.11/dist-packages (from moviepy) (2.37.0)\n",
            "Requirement already satisfied: imageio-ffmpeg>=0.2.0 in /usr/local/lib/python3.11/dist-packages (from moviepy) (0.6.0)\n",
            "Requirement already satisfied: pillow>=8.3.2 in /usr/local/lib/python3.11/dist-packages (from imageio<3.0,>=2.5->moviepy) (11.1.0)\n",
            "Requirement already satisfied: charset-normalizer<4,>=2 in /usr/local/lib/python3.11/dist-packages (from requests<3.0,>=2.8.1->moviepy) (3.4.1)\n",
            "Requirement already satisfied: idna<4,>=2.5 in /usr/local/lib/python3.11/dist-packages (from requests<3.0,>=2.8.1->moviepy) (3.10)\n",
            "Requirement already satisfied: urllib3<3,>=1.21.1 in /usr/local/lib/python3.11/dist-packages (from requests<3.0,>=2.8.1->moviepy) (2.3.0)\n",
            "Requirement already satisfied: certifi>=2017.4.17 in /usr/local/lib/python3.11/dist-packages (from requests<3.0,>=2.8.1->moviepy) (2025.1.31)\n"
          ]
        }
      ]
    },
    {
      "cell_type": "code",
      "execution_count": null,
      "metadata": {
        "id": "EFG0-6w8PBgb"
      },
      "source": [
        "from moviepy.editor import VideoFileClip, AudioFileClip, concatenate_videoclips, vfx\n",
        "import numpy as np\n",
        "import random\n",
        "\n",
        "# File paths\n",
        "movie_path = \"/content/drive/MyDrive/EDIT/Lk21.DE-Venom-The-Last-Dance-2024-BluRay-1736553019.mp4\"\n",
        "audio_path = \"/content/drive/MyDrive/EDIT/mix_14m56s (audio-joiner.com).mp3\"\n",
        "\n",
        "# Define excluded timestamps (start_time, end_time) in seconds\n",
        "excluded_timestamps = [\n",
        "    (0, 41), #in seconds        # Example: Skip 00:00:00 to 00:00:41\n",
        "    (129, 153), #in seconds     # Example: Skip 00:00:30 to 00:00:40 (opening)\n",
        "    (5549, 5678), #in seconds  # Example: Skip 01:00:30 to 01:00:40 (credits)\n",
        "    (5704, 6486) #in seconds\n",
        "]\n",
        "\n",
        "def is_timestamp_excluded(time):\n",
        "    \"\"\"Check if a timestamp falls within any excluded ranges\"\"\"\n",
        "    return any(start <= time <= end for start, end in excluded_timestamps)\n",
        "\n",
        "def get_valid_timestamp(start_range, end_range, duration):\n",
        "    \"\"\"Get a valid timestamp that's not in excluded ranges\"\"\"\n",
        "    max_attempts = 50  # Prevent infinite loop\n",
        "    attempts = 0\n",
        "\n",
        "    while attempts < max_attempts:\n",
        "        time = random.uniform(start_range, min(end_range, duration))\n",
        "        # Check if this timestamp and the next few seconds are valid\n",
        "        if not any(is_timestamp_excluded(t) for t in np.arange(time, time + 4, 0.5)):\n",
        "            return time\n",
        "        attempts += 1\n",
        "\n",
        "    raise ValueError(\"Could not find valid timestamp after maximum attempts\")\n",
        "\n",
        "def apply_fade_transition(clip, duration):\n",
        "    \"\"\"Apply fade in/out transition to a clip\"\"\"\n",
        "    return clip.fadein(0.5).fadeout(0.5)\n",
        "\n",
        "def create_random_effect_clip(clip, start_time, duration, effect_type, apply_transition=False):\n",
        "    subclip = clip.subclip(start_time, start_time + duration)\n",
        "\n",
        "    # Apply the main effect\n",
        "    if effect_type == \"slowmo\":\n",
        "        effect_clip = subclip.fx(vfx.speedx, 0.5)\n",
        "    elif effect_type == \"freeze\":\n",
        "        effect_clip = subclip.to_ImageClip(t=0).set_duration(duration)\n",
        "    else:  # normal speed\n",
        "        effect_clip = subclip\n",
        "\n",
        "    # Apply transition if requested\n",
        "    if apply_transition:\n",
        "        effect_clip = apply_fade_transition(effect_clip, duration)\n",
        "\n",
        "    return effect_clip\n",
        "\n",
        "def auto_edit_video(movie_path, audio_path):\n",
        "    # Load video and audio\n",
        "    video = VideoFileClip(movie_path)\n",
        "    audio = AudioFileClip(audio_path)\n",
        "\n",
        "    # Get target duration from audio\n",
        "    target_duration = audio.duration\n",
        "\n",
        "    # Calculate number of segments needed (using 3 seconds as average duration)\n",
        "    avg_segment_duration = 3  # seconds\n",
        "    total_segments = int(target_duration / avg_segment_duration)\n",
        "\n",
        "    # Calculate segments distribution\n",
        "    sequential_segments = int(total_segments * 0.65)  # 65% sequential\n",
        "    random_segments = total_segments - sequential_segments  # 35% random\n",
        "\n",
        "    # Calculate sequential step size\n",
        "    sequential_duration = video.duration * 0.65  # 65% of total video\n",
        "    sequential_step = sequential_duration / sequential_segments\n",
        "\n",
        "    sequential_clips = []\n",
        "    random_clips = []\n",
        "\n",
        "    # Create sequential segments (65%) starting from 0 seconds\n",
        "    sequential_start = 0  # Start from beginning\n",
        "    for i in range(sequential_segments):\n",
        "        segment_duration = random.uniform(2, 4)\n",
        "\n",
        "        if sequential_start + segment_duration > video.duration:\n",
        "            break\n",
        "\n",
        "        # Skip if current segment overlaps with excluded timestamps\n",
        "        if any(is_timestamp_excluded(t) for t in np.arange(sequential_start, sequential_start + segment_duration, 0.5)):\n",
        "            sequential_start += sequential_step\n",
        "            continue\n",
        "\n",
        "        effect = random.choices(\n",
        "            [\"slowmo\", \"freeze\", \"normal\"],\n",
        "            weights=[0.25, 0.25, 0.50]\n",
        "        )[0]\n",
        "\n",
        "        apply_transition = random.random() < 0.5\n",
        "\n",
        "        try:\n",
        "            effect_clip = create_random_effect_clip(\n",
        "                video,\n",
        "                sequential_start,\n",
        "                segment_duration,\n",
        "                effect,\n",
        "                apply_transition\n",
        "            )\n",
        "\n",
        "            sequential_clips.append(effect_clip)\n",
        "            sequential_start += sequential_step\n",
        "        except Exception as e:\n",
        "            print(f\"Error creating sequential segment {i}: {e}\")\n",
        "            sequential_start += sequential_step\n",
        "            continue\n",
        "\n",
        "    # Add random segments (35%)\n",
        "    for i in range(random_segments):\n",
        "        segment_duration = random.uniform(2, 4)\n",
        "\n",
        "        try:\n",
        "            # Get valid random start time\n",
        "            random_start = get_valid_timestamp(0, video.duration - segment_duration, video.duration)\n",
        "\n",
        "            effect = random.choices(\n",
        "                [\"slowmo\", \"freeze\", \"normal\"],\n",
        "                weights=[0.35, 0.25, 0.35]\n",
        "            )[0]\n",
        "\n",
        "            apply_transition = random.random() < 0.5\n",
        "\n",
        "            effect_clip = create_random_effect_clip(\n",
        "                video,\n",
        "                random_start,\n",
        "                segment_duration,\n",
        "                effect,\n",
        "                apply_transition\n",
        "            )\n",
        "\n",
        "            random_clips.append(effect_clip)\n",
        "        except Exception as e:\n",
        "            print(f\"Error creating random segment {i}: {e}\")\n",
        "            continue\n",
        "\n",
        "    # Shuffle the random segments\n",
        "    random.shuffle(random_clips)\n",
        "\n",
        "    # Combine all segments in order: sequential then random\n",
        "    all_segments = sequential_clips + random_clips\n",
        "\n",
        "    # Concatenate all segments\n",
        "    final_video = concatenate_videoclips(all_segments)\n",
        "\n",
        "    # Adjust final duration to match audio duration\n",
        "    if final_video.duration > target_duration:\n",
        "        final_video = final_video.subclip(0, target_duration)\n",
        "\n",
        "    # Set audio\n",
        "    final_video = final_video.set_audio(audio)\n",
        "\n",
        "    return final_video\n",
        "\n",
        "# Create and save the final video\n",
        "try:\n",
        "    print(\"Starting video editing...\")\n",
        "    final_video = auto_edit_video(movie_path, audio_path)\n",
        "\n",
        "    output_path = \"/content/drive/MyDrive/EDIT/output_recap_4.mp4\"\n",
        "    print(f\"Saving video to {output_path}...\")\n",
        "\n",
        "    final_video.write_videofile(\n",
        "        output_path,\n",
        "        codec='libx264',\n",
        "        audio_codec='aac',\n",
        "        threads=4\n",
        "    )\n",
        "\n",
        "    print(\"Video editing completed successfully!\")\n",
        "except Exception as e:\n",
        "    print(f\"An error occurred: {e}\")\n",
        "finally:\n",
        "    # Clean up\n",
        "    try:\n",
        "        video.close()\n",
        "        audio.close()\n",
        "        final_video.close()\n",
        "    except:\n",
        "        pass"
      ],
      "outputs": []
    },
    {
      "cell_type": "markdown",
      "metadata": {
        "id": "iMBvr6KmPBge"
      },
      "source": [
        "## How to Use\n",
        "\n",
        "1. Mount your Google Drive\n",
        "2. Update the `movie_path` and `audio_path` variables to point to your files\n",
        "3. Define `excluded_timestamps` list with tuples of (start_time, end_time) in seconds\n",
        "   Example: `[(30, 40), (3630, 3640)]` excludes 00:00:30-00:00:40 and 01:00:30-01:00:40\n",
        "4. Run all cells\n",
        "5. The output will be saved as 'output_recap.mp4' in your specified directory\n",
        "\n",
        "The script will:\n",
        "- Process sequential segments (65%) from the start of the video\n",
        "- Skip all specified timestamp ranges (opening/credits/any unwanted scenes)\n",
        "- Take 35% random segments from throughout the video (excluding specified ranges)\n",
        "- Apply effects (slow motion, freeze frames, normal speed) with specified probabilities\n",
        "- Add fade transitions to 50% of all clips\n",
        "- Match the final video duration to the audio duration\n",
        "- Preserve audio quality using AAC codec"
      ]
    }
  ],
  "metadata": {
    "kernelspec": {
      "display_name": "Python 3",
      "language": "python",
      "name": "python3"
    },
    "language_info": {
      "codemirror_mode": {
        "name": "ipython",
        "version": 3
      },
      "file_extension": ".py",
      "mimetype": "text/x-python",
      "name": "python",
      "nbconvert_exporter": "python",
      "pygments_lexer": "ipython3",
      "version": "3.8.0"
    },
    "colab": {
      "provenance": [],
      "include_colab_link": true
    }
  },
  "nbformat": 4,
  "nbformat_minor": 0
}